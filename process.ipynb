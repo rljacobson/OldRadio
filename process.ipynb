{
 "cells": [
  {
   "cell_type": "code",
   "execution_count": 1,
   "metadata": {},
   "outputs": [],
   "source": [
    "# import pandas as pd\n",
    "import json"
   ]
  },
  {
   "cell_type": "code",
   "execution_count": 3,
   "metadata": {},
   "outputs": [
    {
     "data": {
      "text/html": [
       "<div>\n",
       "<style scoped>\n",
       "    .dataframe tbody tr th:only-of-type {\n",
       "        vertical-align: middle;\n",
       "    }\n",
       "\n",
       "    .dataframe tbody tr th {\n",
       "        vertical-align: top;\n",
       "    }\n",
       "\n",
       "    .dataframe thead th {\n",
       "        text-align: right;\n",
       "    }\n",
       "</style>\n",
       "<table border=\"1\" class=\"dataframe\">\n",
       "  <thead>\n",
       "    <tr style=\"text-align: right;\">\n",
       "      <th></th>\n",
       "      <th>Genre</th>\n",
       "      <th>Program Title</th>\n",
       "      <th>Link</th>\n",
       "      <th>Episodes</th>\n",
       "      <th>Years Show Aired</th>\n",
       "      <th>Alternate Collection of Episodes</th>\n",
       "    </tr>\n",
       "  </thead>\n",
       "  <tbody>\n",
       "    <tr>\n",
       "      <th>0</th>\n",
       "      <td>Literary / Broadway</td>\n",
       "      <td>Lux Radio Theater</td>\n",
       "      <td>https://archive.org/details/OTRR_Lux_Radio_The...</td>\n",
       "      <td>789.0</td>\n",
       "      <td>1934-1955</td>\n",
       "      <td>NaN</td>\n",
       "    </tr>\n",
       "    <tr>\n",
       "      <th>1</th>\n",
       "      <td>Literary / Broadway</td>\n",
       "      <td>Orson Welles' Mercury Theater on the Air</td>\n",
       "      <td>https://archive.org/details/OrsonWelles-Mercur...</td>\n",
       "      <td>22.0</td>\n",
       "      <td>1938</td>\n",
       "      <td>NaN</td>\n",
       "    </tr>\n",
       "    <tr>\n",
       "      <th>2</th>\n",
       "      <td>Literary / Broadway</td>\n",
       "      <td>The Weird Circle</td>\n",
       "      <td>https://archive.org/details/OTRR_Weird_Circle_...</td>\n",
       "      <td>78.0</td>\n",
       "      <td>1943-1945</td>\n",
       "      <td>NaN</td>\n",
       "    </tr>\n",
       "    <tr>\n",
       "      <th>3</th>\n",
       "      <td>Sci-Fi</td>\n",
       "      <td>The Blue Beetle</td>\n",
       "      <td>https://archive.org/details/OTRR_Blue_Beetle_S...</td>\n",
       "      <td>72.0</td>\n",
       "      <td>1940</td>\n",
       "      <td>NaN</td>\n",
       "    </tr>\n",
       "    <tr>\n",
       "      <th>4</th>\n",
       "      <td>Sci-Fi</td>\n",
       "      <td>Dimension X</td>\n",
       "      <td>https://archive.org/details/OTRR_Dimension_X_S...</td>\n",
       "      <td>50.0</td>\n",
       "      <td>1950-1951</td>\n",
       "      <td>NaN</td>\n",
       "    </tr>\n",
       "  </tbody>\n",
       "</table>\n",
       "</div>"
      ],
      "text/plain": [
       "                 Genre                             Program Title  \\\n",
       "0  Literary / Broadway                         Lux Radio Theater   \n",
       "1  Literary / Broadway  Orson Welles' Mercury Theater on the Air   \n",
       "2  Literary / Broadway                          The Weird Circle   \n",
       "3               Sci-Fi                           The Blue Beetle   \n",
       "4               Sci-Fi                               Dimension X   \n",
       "\n",
       "                                                Link  Episodes  \\\n",
       "0  https://archive.org/details/OTRR_Lux_Radio_The...     789.0   \n",
       "1  https://archive.org/details/OrsonWelles-Mercur...      22.0   \n",
       "2  https://archive.org/details/OTRR_Weird_Circle_...      78.0   \n",
       "3  https://archive.org/details/OTRR_Blue_Beetle_S...      72.0   \n",
       "4  https://archive.org/details/OTRR_Dimension_X_S...      50.0   \n",
       "\n",
       "  Years Show Aired Alternate Collection of Episodes  \n",
       "0        1934-1955                              NaN  \n",
       "1             1938                              NaN  \n",
       "2        1943-1945                              NaN  \n",
       "3             1940                              NaN  \n",
       "4        1950-1951                              NaN  "
      ]
     },
     "execution_count": 3,
     "metadata": {},
     "output_type": "execute_result"
    }
   ],
   "source": [
    "db_file = 'db.json'\n",
    "\n",
    "df = pd.read_json(db_file)\n",
    "df.head()\n"
   ]
  },
  {
   "cell_type": "code",
   "execution_count": 2,
   "metadata": {},
   "outputs": [
    {
     "data": {
      "text/plain": [
       "52"
      ]
     },
     "execution_count": 2,
     "metadata": {},
     "output_type": "execute_result"
    }
   ],
   "source": [
    "db = []\n",
    "with open(\"db.json\", 'r') as f:\n",
    "    db = json.load(f)\n",
    "len(db)"
   ]
  },
  {
   "cell_type": "code",
   "execution_count": 32,
   "metadata": {},
   "outputs": [],
   "source": [
    "\n",
    "for record in db:\n",
    "    if \"Collections\" not in record:\n",
    "        new_record = {\"Link\": record['Link']}\n",
    "        if 'Episodes' in record:\n",
    "            new_record['Episodes'] = record['Episodes']\n",
    "            del record['Episodes']\n",
    "        record[\"Collections\"] = [new_record]\n",
    "        del record['Link']\n",
    "\n",
    "        if c in record:\n",
    "            parsed = record[c].split(', ')\n",
    "            if len(parsed) == 1:\n",
    "                record[\"Collections\"].append({\"Link\": parsed[0]})\n",
    "            if len(parsed) == 2:\n",
    "                record[\"Collections\"].append({\"Link\": parsed[0], \"Episodes\": parsed[1]})\n"
   ]
  },
  {
   "cell_type": "code",
   "execution_count": 24,
   "metadata": {},
   "outputs": [
    {
     "name": "stdout",
     "output_type": "stream",
     "text": [
      "Processed \"Let George Do It\"\n"
     ]
    }
   ],
   "source": [
    "f = open(\"descriptions.md\", 'r', encoding='utf-8')\n",
    "\n",
    "genre = ''\n",
    "title = ''\n",
    "episodes = -1\n",
    "url = ''\n",
    "description = ''\n",
    "\n",
    "all = []\n",
    "\n",
    "\n",
    "for line in f:\n",
    "    line = line.strip()\n",
    "    if line.startswith('## '):\n",
    "        genre = line[3:]\n",
    "        title = ''\n",
    "\n",
    "    elif line.startswith('### '):\n",
    "        title = line[4:]\n",
    "        episodes = -1\n",
    "        url = ''\n",
    "        description = ''\n",
    "\n",
    "        if title.startswith('['):\n",
    "            idx = title.find('](')\n",
    "            if idx > 0:\n",
    "                url = title[idx+2:-1]\n",
    "                title = title[1:idx]\n",
    "\n",
    "        if title == 'Let George Do It':\n",
    "            print('Processed \"Let George Do It\"')\n",
    "\n",
    "    elif line.endswith(' episodes'):\n",
    "        try:\n",
    "            episodes = int(line[:-9])\n",
    "        except:\n",
    "            pass\n",
    "\n",
    "\n",
    "        record = {\n",
    "            'Genre': genre,\n",
    "            'Program Title': title,\n",
    "            'Link': url,\n",
    "            'Episodes': episodes,\n",
    "            'Description': description.strip()\n",
    "        }\n",
    "        all.append(record)\n",
    "\n",
    "    elif title:\n",
    "        description += '\\n' + line\n",
    "\n",
    "    elif line == '' and description:\n",
    "        description += '\\n'\n",
    "\n",
    "f.close()\n",
    "\n",
    "f = open('db2.json', 'w', encoding='utf-8')\n",
    "\n",
    "f.write(json.dumps(all, indent=4))\n",
    "\n",
    "f.close()"
   ]
  },
  {
   "cell_type": "code",
   "execution_count": 25,
   "metadata": {},
   "outputs": [
    {
     "name": "stdout",
     "output_type": "stream",
     "text": [
      "Old: 52 \n",
      "New: 54\n"
     ]
    }
   ],
   "source": [
    "db_lst = []\n",
    "db = {}\n",
    "new_db = {}\n",
    "\n",
    "with open('db.json', 'r', encoding='utf-8') as f:\n",
    "    db_lst = json.load(f)\n",
    "\n",
    "for record in all:\n",
    "    new_db[record['Program Title']] = record\n",
    "\n",
    "print(\"Old:\", len(db_lst), \"\\nNew:\", len(all))\n",
    "\n",
    "\n",
    "for record in db_lst:\n",
    "    try:\n",
    "        found = new_db[record['Program Title']]\n",
    "        record['Description'] = found['Description']\n",
    "    except:\n",
    "        print('Not found:', record['Program Title'])\n",
    "\n",
    "    # new_db[record['Program Title']] = record\n",
    "\n",
    "f.close()\n",
    "f = open('db.json', 'w', encoding='utf-8')\n",
    "\n",
    "f.write(json.dumps(db_lst, indent=4))\n",
    "\n",
    "f.close()"
   ]
  },
  {
   "cell_type": "code",
   "execution_count": 29,
   "metadata": {},
   "outputs": [
    {
     "name": "stdout",
     "output_type": "stream",
     "text": [
      "In db but not new_db:\n",
      "In new_db but not db:\n",
      "52\n",
      "52\n"
     ]
    }
   ],
   "source": [
    "for record in db_lst:\n",
    "    db[record['Program Title']] = record\n",
    "\n",
    "print('In db but not new_db:')\n",
    "for record in db_lst:\n",
    "    try:\n",
    "        found = new_db[record['Program Title']]\n",
    "    except:\n",
    "        print(record['Program Title'])\n",
    "\n",
    "\n",
    "print('In new_db but not db:')\n",
    "for record in all:\n",
    "    try:\n",
    "        found = db[record['Program Title']]\n",
    "    except:\n",
    "        print(record['Program Title'])\n",
    "\n",
    "print(len(db))\n",
    "print(len(new_db))"
   ]
  },
  {
   "cell_type": "code",
   "execution_count": 4,
   "metadata": {},
   "outputs": [
    {
     "data": {
      "text/plain": [
       "'OTRR_Lux_Radio_Theater_Singles'"
      ]
     },
     "execution_count": 4,
     "metadata": {},
     "output_type": "execute_result"
    }
   ],
   "source": [
    "\"https://archive.org/details/OTRR_Lux_Radio_Theater_Singles\"[28:]"
   ]
  },
  {
   "cell_type": "code",
   "execution_count": 6,
   "metadata": {},
   "outputs": [
    {
     "ename": "KeyError",
     "evalue": "'Link'",
     "output_type": "error",
     "traceback": [
      "\u001b[0;31m---------------------------------------------------------------------------\u001b[0m",
      "\u001b[0;31mKeyError\u001b[0m                                  Traceback (most recent call last)",
      "Cell \u001b[0;32mIn[6], line 2\u001b[0m\n\u001b[1;32m      1\u001b[0m \u001b[38;5;28;01mfor\u001b[39;00m record \u001b[38;5;129;01min\u001b[39;00m db:\n\u001b[0;32m----> 2\u001b[0m     ArchiveID \u001b[38;5;241m=\u001b[39m \u001b[43mrecord\u001b[49m\u001b[43m[\u001b[49m\u001b[38;5;124;43m'\u001b[39;49m\u001b[38;5;124;43mLink\u001b[39;49m\u001b[38;5;124;43m'\u001b[39;49m\u001b[43m]\u001b[49m[\u001b[38;5;241m28\u001b[39m:]\n\u001b[1;32m      3\u001b[0m     record[\u001b[38;5;124m'\u001b[39m\u001b[38;5;124mArchiveID\u001b[39m\u001b[38;5;124m'\u001b[39m] \u001b[38;5;241m=\u001b[39m ArchiveID\n\u001b[1;32m      4\u001b[0m     \u001b[38;5;28;01mdel\u001b[39;00m record[\u001b[38;5;124m'\u001b[39m\u001b[38;5;124mLink\u001b[39m\u001b[38;5;124m'\u001b[39m]\n",
      "\u001b[0;31mKeyError\u001b[0m: 'Link'"
     ]
    }
   ],
   "source": [
    "for record in db:\n",
    "    ArchiveID = record['Link'][28:]\n",
    "    record['ArchiveID'] = ArchiveID\n",
    "    del record['Link']\n"
   ]
  },
  {
   "cell_type": "code",
   "execution_count": 7,
   "metadata": {},
   "outputs": [],
   "source": [
    "\n",
    "f = open('db2.json', 'w', encoding='utf-8')\n",
    "\n",
    "f.write(json.dumps(db, indent=4))\n",
    "\n",
    "f.close()"
   ]
  },
  {
   "cell_type": "code",
   "execution_count": null,
   "metadata": {},
   "outputs": [],
   "source": []
  }
 ],
 "metadata": {
  "kernelspec": {
   "display_name": "Python 3",
   "language": "python",
   "name": "python3"
  },
  "language_info": {
   "codemirror_mode": {
    "name": "ipython",
    "version": 3
   },
   "file_extension": ".py",
   "mimetype": "text/x-python",
   "name": "python",
   "nbconvert_exporter": "python",
   "pygments_lexer": "ipython3",
   "version": "3.12.2"
  }
 },
 "nbformat": 4,
 "nbformat_minor": 2
}
